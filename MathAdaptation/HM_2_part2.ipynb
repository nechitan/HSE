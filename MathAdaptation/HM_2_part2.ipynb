{
 "cells": [
  {
   "cell_type": "code",
   "execution_count": 67,
   "metadata": {
    "id": "1CUi7JibJFms"
   },
   "outputs": [],
   "source": [
    "import numpy as np\n",
    "import matplotlib.pyplot as plt\n",
    "import scipy.linalg as sla "
   ]
  },
  {
   "cell_type": "markdown",
   "metadata": {
    "id": "DByxpqmGHHp1"
   },
   "source": [
    "### Задача 1. (1 балл)\n",
    "\n",
    "Сделайте задания ниже, используя библиотеки numpy и/или scipy."
   ]
  },
  {
   "cell_type": "markdown",
   "metadata": {
    "id": "0VsmpAItHHp3"
   },
   "source": [
    "1. Найдите определитель матрицы\n",
    "\n",
    "$$ \\begin{pmatrix} 1 & 6 & 4 & 2 & 4 \\\\ 4 & 3 & 1 & 34 & 1 \\\\ 45 & 4 & 1 & 3 & 4 \\\\ 12 & 7 & 11 & 2 & 0 \\\\ 43 & 42 & 10 & 1 & 2 \\end{pmatrix}$$"
   ]
  },
  {
   "cell_type": "code",
   "execution_count": 68,
   "metadata": {
    "id": "fADpV22kTxc8"
   },
   "outputs": [],
   "source": [
    "a1 = np.array([[1, 6, 4, 2, 4],\n",
    "              [4, 3, 1, 34, 1],\n",
    "              [45, 4, 1, 3, 4],\n",
    "              [12, 7, 11, 2, 0],\n",
    "              [43, 42, 10, 1, 2]])"
   ]
  },
  {
   "cell_type": "code",
   "execution_count": 69,
   "metadata": {},
   "outputs": [
    {
     "data": {
      "text/plain": [
       "2366668.9999999986"
      ]
     },
     "execution_count": 69,
     "metadata": {},
     "output_type": "execute_result"
    }
   ],
   "source": [
    "np.linalg.det(a1) # round(np.linalg.det(a)) # 2366669"
   ]
  },
  {
   "cell_type": "markdown",
   "metadata": {
    "id": "ovYSt30bHHp7"
   },
   "source": [
    "2. Найдите матрицу, обратную матрице\n",
    "\n",
    "$$ \\begin{pmatrix} 1 & 12 & 3 & 2 \\\\ 4 & 30 & 0 & 1 \\\\ 12 & 4 & 3 & 5 \\\\ 1 & 5 & 1 & 10  \\end{pmatrix}$$\n"
   ]
  },
  {
   "cell_type": "code",
   "execution_count": 70,
   "metadata": {
    "id": "BJC5FiMpTx3B"
   },
   "outputs": [],
   "source": [
    "a2 = np.array([[1, 12, 3, 2],\n",
    "              [4, 30, 0, 1],\n",
    "              [12, 4, 3, 5],\n",
    "              [1, 5, 1, 10]])"
   ]
  },
  {
   "cell_type": "code",
   "execution_count": 71,
   "metadata": {},
   "outputs": [
    {
     "data": {
      "text/plain": [
       "array([[-7.43236448e-02,  2.34335714e-02,  8.41798250e-02,\n",
       "        -2.95685407e-02],\n",
       "       [ 1.09624862e-02,  3.03731268e-02, -1.10630594e-02,\n",
       "         3.01719803e-04],\n",
       "       [ 3.35311274e-01, -1.26018304e-01,  1.94106407e-02,\n",
       "        -6.41657447e-02],\n",
       "       [-3.15800060e-02, -4.92809011e-03, -4.82751685e-03,\n",
       "         1.09222569e-01]])"
      ]
     },
     "execution_count": 71,
     "metadata": {},
     "output_type": "execute_result"
    }
   ],
   "source": [
    "np.linalg.inv(a2)"
   ]
  },
  {
   "cell_type": "markdown",
   "metadata": {
    "id": "jAVkO5tYHHp9"
   },
   "source": [
    "3. Найдите собственные значения матрицы\n",
    "$$ \\begin{pmatrix} 1 & 10 & 3 & 12 \\\\ 3 & 20 & 0 & 2 \\\\ 11 & 3 & 3 & 6 \\\\ 1 & 8 & 1 & 10   \\end{pmatrix}$$\n"
   ]
  },
  {
   "cell_type": "code",
   "execution_count": 72,
   "metadata": {},
   "outputs": [],
   "source": [
    "a3 = np.array([[1, 12, 3, 2],\n",
    "              [4, 30, 0, 1],\n",
    "              [12, 4, 3, 5],\n",
    "              [1, 5, 1, 10]])"
   ]
  },
  {
   "cell_type": "code",
   "execution_count": 73,
   "metadata": {
    "id": "vLpgBnDKczRw"
   },
   "outputs": [
    {
     "data": {
      "text/plain": [
       "array([32.0200691 , -4.82133249,  5.91782057, 10.88344282])"
      ]
     },
     "execution_count": 73,
     "metadata": {},
     "output_type": "execute_result"
    }
   ],
   "source": [
    "np.linalg.eig(a3)[0]"
   ]
  },
  {
   "cell_type": "markdown",
   "metadata": {
    "id": "k43Pgpz5HHp-"
   },
   "source": [
    "4. Найдите спектральное разложение матрицы\n",
    "\n",
    "$$ \\begin{pmatrix} 1 & 10 & 3 & 12 \\\\ 3 & 20 & 0 & 2 \\\\ 11 & 3 & 3 & 6 \\\\ 1 & 8 & 1 & 10   \\end{pmatrix}$$"
   ]
  },
  {
   "cell_type": "code",
   "execution_count": 74,
   "metadata": {},
   "outputs": [],
   "source": [
    "a4 = np.array([[1, 10, 3, 12],\n",
    "              [3, 20, 0, 2],\n",
    "              [11, 3, 3, 6],\n",
    "              [1, 8, 1, 10]])"
   ]
  },
  {
   "cell_type": "code",
   "execution_count": 75,
   "metadata": {},
   "outputs": [],
   "source": [
    "q, r =  np.linalg.qr(a4) "
   ]
  },
  {
   "cell_type": "code",
   "execution_count": 76,
   "metadata": {},
   "outputs": [
    {
     "name": "stdout",
     "output_type": "stream",
     "text": [
      "Q:\n",
      " [[-0.08703883 -0.41820193  0.84887995 -0.31134261]\n",
      " [-0.26111648 -0.79800814 -0.49877128 -0.2150079 ]\n",
      " [-0.95742711  0.28537352  0.04344524  0.00279231]\n",
      " [-0.08703883 -0.3268824   0.16953629  0.9256509 ]] \n",
      "\n",
      "R:\n",
      " [[-11.48912529  -9.66130991  -3.22043664  -8.18164983]\n",
      " [  0.         -21.90112077  -0.72536761  -8.17102227]\n",
      " [  0.           0.           2.84651185  11.14505118]\n",
      " [  0.           0.           0.           5.10713572]]\n"
     ]
    }
   ],
   "source": [
    "print('Q:\\n', q, '\\n\\nR:\\n', r)"
   ]
  },
  {
   "cell_type": "markdown",
   "metadata": {
    "id": "i1lFQ95lHHp_"
   },
   "source": [
    "### Задача 2 (0.5)\n",
    "\n",
    "Рассмотрим задачу:\n",
    "\n",
    "Сколько существует 5-значных чисел, которые начинаются с цифры 2 или 4, содержат только четные цифры и при этом каждая цифра повторяется не более трёх раз?"
   ]
  },
  {
   "cell_type": "markdown",
   "metadata": {
    "id": "BsRKh50-HHp_"
   },
   "source": [
    "1. Приведите \"математическое\" решение этой задачи. (0.1).\n",
    "2. Напишите код на python, который перебирает все числа, проверяет, удовлетворяют ли они условию и в конце выводит количество нужных чисел. (0.4)"
   ]
  },
  {
   "cell_type": "code",
   "execution_count": 77,
   "metadata": {},
   "outputs": [],
   "source": [
    "# 1.Приведите \"математическое\" решение этой задачи. (0.1)."
   ]
  },
  {
   "cell_type": "markdown",
   "metadata": {},
   "source": [
    "0, 2, 4, 6, 8 - 5 четных чисел"
   ]
  },
  {
   "cell_type": "code",
   "execution_count": 78,
   "metadata": {
    "id": "VCq9ZL-QUdB_"
   },
   "outputs": [
    {
     "data": {
      "text/plain": [
       "800"
      ]
     },
     "execution_count": 78,
     "metadata": {},
     "output_type": "execute_result"
    }
   ],
   "source": [
    "2 * 5 * 5 * 4 * 4"
   ]
  },
  {
   "cell_type": "code",
   "execution_count": 79,
   "metadata": {},
   "outputs": [],
   "source": [
    "# 2.Напишите код на python, который перебирает все числа, проверяет, удовлетворяют ли они условию и в конце выводит количество нужных чисел. (0.4)"
   ]
  },
  {
   "cell_type": "code",
   "execution_count": 80,
   "metadata": {},
   "outputs": [
    {
     "name": "stdout",
     "output_type": "stream",
     "text": [
      "1208\n"
     ]
    }
   ],
   "source": [
    "count_of_numbers = 0\n",
    "lst = []\n",
    "\n",
    "for i in range(20000, 88867):\n",
    "    number = str(i)\n",
    "    count_n = Counter(number)\n",
    "    \n",
    "    if any(count > 3 for count in count_n.values()):\n",
    "        continue\n",
    "    else:\n",
    "        a1 = int(number[0])\n",
    "        a2 = int(number[1])\n",
    "        a3 = int(number[2])\n",
    "        a4 = int(number[3])\n",
    "        a5 = int(number[4])\n",
    "        \n",
    "        if a1 in [2, 4]:\n",
    "            if a2 in [0, 2, 4, 6, 8]:\n",
    "                if a3 in [0, 2, 4, 6, 8]:\n",
    "                    if a4 in [0, 2, 4, 6, 8]:\n",
    "                        if a5 in [0, 2, 4, 6, 8]:\n",
    "                            count_of_numbers += 1\n",
    "                            lst.append(number)\n",
    "                        else:\n",
    "                            continue\n",
    "                    else:\n",
    "                        continue\n",
    "                else:\n",
    "                    continue\n",
    "            else:\n",
    "                continue\n",
    "        else:\n",
    "            continue\n",
    "            \n",
    "print(count_of_numbers)"
   ]
  },
  {
   "cell_type": "code",
   "execution_count": 81,
   "metadata": {},
   "outputs": [
    {
     "data": {
      "text/plain": [
       "'48886'"
      ]
     },
     "execution_count": 81,
     "metadata": {},
     "output_type": "execute_result"
    }
   ],
   "source": [
    "max(lst)"
   ]
  },
  {
   "cell_type": "markdown",
   "metadata": {
    "id": "WXiChW49HHqA"
   },
   "source": [
    "### Задача 3 (1 балл)\n",
    "\n",
    "\n",
    "*Это задача на \"отлично (превосходит ожидания)\" по шкале перевода оценок НИУ ВШЭ:  https://www.hse.ru/studyspravka/Scale*\n",
    "\n",
    "*Но она на самом деле не такая уж сложная.*\n",
    "\n",
    "\n",
    "\n",
    "a. (0.8). Напишите свою функцию-реализацию метода Гаусса для решения систем линейных уравнений.\n",
    "\n",
    "Программа должна принимать на вход Матрицу A и вектор-столбец b и решать систему уравнений $Ax=b$.\n",
    "\n",
    "Вы можете самостотельно определить формат входных и выходных данных. Например, вы можете хранить A как двумерный numpy массив A или список списков, вектор-столбец b - как одномерный numpy-массив или список (list). Программа должна возвращать вектор x. Отдельно подумайте над ситуациями, когда решений нет или бесконечно много.\n",
    "\n",
    "Разрешено использовать numpy, но только для операций над массивами (нельзя использовать numpy.linalg, за исключением numpy.linalg.det, если понадобится).\n",
    "\n",
    "b. (0.2).Напишите свою функцию-реализацию метода Крамера для решения систем линейных уравнений.\n",
    "\n",
    "Все дополнительные условия - как в п.а. Если система не может быть решена методом Крамера, функция должна вывести соответствующее сообщение.\n",
    "\n"
   ]
  },
  {
   "cell_type": "code",
   "execution_count": null,
   "metadata": {},
   "outputs": [],
   "source": []
  },
  {
   "cell_type": "markdown",
   "metadata": {
    "id": "NwzGdKdNHHqB"
   },
   "source": [
    "### Задача 4 (1 балл)\n",
    "\n",
    "*Это задача на \"отлично (существенно превосходит ожидания)\" по шкале перевода оценок НИУ ВШЭ:  https://www.hse.ru/studyspravka/Scale*.\n",
    "\n",
    "*Даже из команды курса за неё не все готовы были бы взяться.*"
   ]
  },
  {
   "cell_type": "markdown",
   "metadata": {
    "id": "Pw_sKR_FJEwP"
   },
   "source": [
    "Система может находиться в одном из двух состояний $A$ или $B$. Экспериментатор умеет измерять косвенную величину $x$, которая поможет ему определить состояние, в котором находится система. Тем не менее, метод, которым экспериментатор измеряет величину $x$ обладает погрешностью. Будем считать, что функция распределения величины $x$ имеет гауссов вид, причем среднее значение равно $\\pm \\tilde x$ для состояний $A$ и $B$ соответственно, а дисперсия равна $\\sigma^2$ и не зависит от состояния:\n",
    "\n",
    "\\begin{equation}\n",
    "  P(x\\ |\\ A) = \\frac{1}{\\sqrt{2 \\pi \\sigma}}\\exp\\left(\\frac{-(x-\\tilde x)^2}{2 \\sigma^2}\\right), \\quad P(x\\ |\\ B) = \\frac{1}{\\sqrt{2 \\pi \\sigma}}\\exp\\left(\\frac{-(x+\\tilde x)^2}{2 \\sigma^2}\\right).\n",
    "\\end{equation}\n",
    "\n",
    "В случае, когда $\\sigma \\gg \\tilde x$ погрешность метода слишком велика и отдельное измерение не позволяет достоверно определить состояние, в котором находится система. Пусть $\\tilde x = 1$, $\\sigma = 10$ и каждое измерение не изменяет состояния системы. Предлагается выполнить $N$ измерений, чтобы определить состояние системы."
   ]
  },
  {
   "cell_type": "code",
   "execution_count": null,
   "metadata": {
    "id": "e6sTBdEsJDsS"
   },
   "outputs": [],
   "source": [
    "X_MEAN = 1\n",
    "SIGMA = 10"
   ]
  },
  {
   "cell_type": "markdown",
   "metadata": {
    "id": "DQHMQhYiI3zp"
   },
   "source": [
    "1. (0.3 Балла) Пусть априорные вероятности нахождения системы в состояниях A и B равны друг другу, $P(A) = P(B) = 1/2$. Сгенерируйте состояние системы, а затем проведите $N$ измерений величины $x$ в соотвествии с вероятностями, приведенными выше, получится массив $\\{x_1,x_2, \\dots, x_N\\}$. Изобразите результат на графике, по оси абсцисс отложите $i$ (номер измерения), а по оси ординат $x_i/\\tilde x$. Можно ли определить состояние системы по этому графику? Каким выбрать параметр $N$?"
   ]
  },
  {
   "cell_type": "code",
   "execution_count": null,
   "metadata": {
    "id": "aEtNcJo7JzPf"
   },
   "outputs": [],
   "source": [
    "#your code here"
   ]
  },
  {
   "cell_type": "markdown",
   "metadata": {
    "id": "-fXbtv6EI0Gl"
   },
   "source": [
    "2. (0.7 Баллов) Попробуем теперь вычислить вероятность нахождения системы в состоянии $A$ при условии проведенных измерений. Вероятность после первого измерения выражается с помощью формулы Байеса как\n",
    "\\begin{equation}\n",
    "  P(A\\ |\\ x_1) = \\frac{P(x_1\\ |\\ A) P(A)}{P(x_1)}, \\quad P(x_1) = P(x_1\\ |\\ A) P(A) + P(x_1\\ |\\ B) P(B).\n",
    "\\end{equation}\n",
    "В соответствии с этими формулами мы можем обновлять наше знание о вероятности нахождения системы в состоянии $A$ и $B$. В начале следующего шага $P(A) = P(A\\ |\\ x_1)$, $P(B) = 1 - P(A\\ |\\ x_1)$ и нам нужно будет учесть аналогичным образом уже измерение $x_2$, чтобы получить обновленнные вероятности. Постройте график $P(A)$ в зависимости от номера шага и прокомментируйте его. Подберите хорошее значение для параметра $N$, объясните свой выбор. Сравните результаты с первым пунктом."
   ]
  },
  {
   "cell_type": "code",
   "execution_count": null,
   "metadata": {
    "id": "NYXHhln1J0km"
   },
   "outputs": [],
   "source": [
    "#your code here"
   ]
  }
 ],
 "metadata": {
  "colab": {
   "provenance": []
  },
  "kernelspec": {
   "display_name": "Python 3 (ipykernel)",
   "language": "python",
   "name": "python3"
  },
  "language_info": {
   "codemirror_mode": {
    "name": "ipython",
    "version": 3
   },
   "file_extension": ".py",
   "mimetype": "text/x-python",
   "name": "python",
   "nbconvert_exporter": "python",
   "pygments_lexer": "ipython3",
   "version": "3.8.10"
  }
 },
 "nbformat": 4,
 "nbformat_minor": 4
}
