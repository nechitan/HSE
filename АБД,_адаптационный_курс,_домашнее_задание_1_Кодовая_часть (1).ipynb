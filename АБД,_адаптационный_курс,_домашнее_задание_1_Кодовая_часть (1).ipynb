{
 "cells": [
  {
   "cell_type": "markdown",
   "metadata": {
    "id": "ye_4O1r4eDZ_"
   },
   "source": [
    "### Задача 1 (1 балл)\n",
    "\n",
    "\n",
    "$ 1.$\n",
    "\n",
    "Создайте с помощью np.random.randint numpy массив из 20-ти рандомных чисел.\n",
    "Посчитайте с помощью методов numpy и выведите на экран:\n",
    "\n",
    "* среднее значение в массиве\n",
    "* минимальное значение в массиве\n",
    "* максимальное значение в массиве\n",
    "* индекс минимального элемента в массиве\n",
    "* массив, который содержит те элементы исходного массива, которые больше 10\n",
    "\n",
    "\n",
    "$ 2.$\n",
    "1. Сгенерируйте рандомный массив b размера 3x1.\n",
    "2. Сгенерируйте матрицу С размера 3x3.\n",
    "3. Решите систему Cx = b с помощью numpy.linalg.solve (как это делать - можно почитать в документации: https://numpy.org/doc/stable/reference/generated/numpy.linalg.solve.html)\n",
    "4. Подумайте/погуглите, в каком случае numpy.linalg.solve вернет ошибку LinAlgError. Воспроизведите этот случай."
   ]
  },
  {
   "cell_type": "markdown",
   "metadata": {
    "id": "m8DDcNCt03NQ"
   },
   "source": [
    "Пользуйтесь документацией numpy:  https://numpy.org"
   ]
  },
  {
   "cell_type": "markdown",
   "metadata": {},
   "source": [
    "### Решение задачи 1 "
   ]
  },
  {
   "cell_type": "code",
   "execution_count": 4,
   "metadata": {
    "id": "GqO9jTvhofAf"
   },
   "outputs": [],
   "source": [
    "import numpy as np"
   ]
  },
  {
   "cell_type": "markdown",
   "metadata": {
    "id": "wEquimbJpZPz"
   },
   "source": [
    "$ 1.$"
   ]
  },
  {
   "cell_type": "code",
   "execution_count": 5,
   "metadata": {},
   "outputs": [
    {
     "data": {
      "text/plain": [
       "array([ 5, 32, 33, 78, 39, 34, 44, 67, 67, 91, 46, 63, 70,  4,  9, 15, 27,\n",
       "       70, 52, 63])"
      ]
     },
     "execution_count": 5,
     "metadata": {},
     "output_type": "execute_result"
    }
   ],
   "source": [
    "# создание массива\n",
    "array = np.random.randint(0, 100, 20)\n",
    "array"
   ]
  },
  {
   "cell_type": "code",
   "execution_count": 6,
   "metadata": {},
   "outputs": [
    {
     "name": "stdout",
     "output_type": "stream",
     "text": [
      "Среднее значение: 45.45\n",
      "Минимальное значение: 4\n",
      "Максимальное значение: 45.45\n",
      "Индекс мин. значения: 13\n",
      "Массив по условию: [32 33 78 39 34 44 67 67 91 46 63 70 15 27 70 52 63]\n"
     ]
    }
   ],
   "source": [
    "# среднее значение в массиве\n",
    "mean_array = np.mean(array)\n",
    "print(f\"Среднее значение: {mean_array}\")\n",
    "\n",
    "# минимальное значение в массиве\n",
    "min_value_array = np.min(array)\n",
    "print(f\"Минимальное значение: {min_value_array}\")\n",
    "\n",
    "# максимальное значение в массиве\n",
    "max_value_array = np.max(array)\n",
    "print(f\"Максимальное значение: {mean_array}\")\n",
    "\n",
    "# индекс минимального элемента в массиве\n",
    "min_idx = np.argmin(array)\n",
    "print(f\"Индекс мин. значения: {min_idx}\")\n",
    "\n",
    "# массив, который содержит те элементы исходного массива, которые больше 10\n",
    "array_more_10 = array[array > 10]\n",
    "print(f\"Массив по условию: {array_more_10}\")"
   ]
  },
  {
   "cell_type": "markdown",
   "metadata": {},
   "source": [
    "$ 2.$"
   ]
  },
  {
   "cell_type": "code",
   "execution_count": 7,
   "metadata": {},
   "outputs": [],
   "source": [
    "# 1\n",
    "b = np.random.randint(0, 100, size=(3,1))"
   ]
  },
  {
   "cell_type": "code",
   "execution_count": 8,
   "metadata": {},
   "outputs": [],
   "source": [
    "# 2\n",
    "C = np.random.randint(0, 100, size=(3,3))"
   ]
  },
  {
   "cell_type": "code",
   "execution_count": 9,
   "metadata": {},
   "outputs": [],
   "source": [
    "# 3\n",
    "x = np.linalg.solve(C, b)"
   ]
  },
  {
   "cell_type": "code",
   "execution_count": 10,
   "metadata": {},
   "outputs": [
    {
     "ename": "LinAlgError",
     "evalue": "Last 2 dimensions of the array must be square",
     "output_type": "error",
     "traceback": [
      "\u001b[0;31m---------------------------------------------------------------------------\u001b[0m",
      "\u001b[0;31mLinAlgError\u001b[0m                               Traceback (most recent call last)",
      "Input \u001b[0;32mIn [10]\u001b[0m, in \u001b[0;36m<module>\u001b[0;34m\u001b[0m\n\u001b[1;32m      3\u001b[0m a_1 \u001b[38;5;241m=\u001b[39m np\u001b[38;5;241m.\u001b[39mrandom\u001b[38;5;241m.\u001b[39mrandint(\u001b[38;5;241m0\u001b[39m, \u001b[38;5;241m100\u001b[39m, size\u001b[38;5;241m=\u001b[39m(\u001b[38;5;241m3\u001b[39m, \u001b[38;5;241m1\u001b[39m))\n\u001b[1;32m      4\u001b[0m a_2 \u001b[38;5;241m=\u001b[39m np\u001b[38;5;241m.\u001b[39mrandom\u001b[38;5;241m.\u001b[39mrandint(\u001b[38;5;241m0\u001b[39m, \u001b[38;5;241m100\u001b[39m, size\u001b[38;5;241m=\u001b[39m(\u001b[38;5;241m3\u001b[39m, \u001b[38;5;241m5\u001b[39m))\n\u001b[0;32m----> 6\u001b[0m A \u001b[38;5;241m=\u001b[39m \u001b[43mnp\u001b[49m\u001b[38;5;241;43m.\u001b[39;49m\u001b[43mlinalg\u001b[49m\u001b[38;5;241;43m.\u001b[39;49m\u001b[43msolve\u001b[49m\u001b[43m(\u001b[49m\u001b[43ma_2\u001b[49m\u001b[43m,\u001b[49m\u001b[43m \u001b[49m\u001b[43ma_1\u001b[49m\u001b[43m)\u001b[49m\n",
      "File \u001b[0;32m<__array_function__ internals>:180\u001b[0m, in \u001b[0;36msolve\u001b[0;34m(*args, **kwargs)\u001b[0m\n",
      "File \u001b[0;32m/opt/conda/lib/python3.8/site-packages/numpy/linalg/linalg.py:380\u001b[0m, in \u001b[0;36msolve\u001b[0;34m(a, b)\u001b[0m\n\u001b[1;32m    378\u001b[0m a, _ \u001b[38;5;241m=\u001b[39m _makearray(a)\n\u001b[1;32m    379\u001b[0m _assert_stacked_2d(a)\n\u001b[0;32m--> 380\u001b[0m \u001b[43m_assert_stacked_square\u001b[49m\u001b[43m(\u001b[49m\u001b[43ma\u001b[49m\u001b[43m)\u001b[49m\n\u001b[1;32m    381\u001b[0m b, wrap \u001b[38;5;241m=\u001b[39m _makearray(b)\n\u001b[1;32m    382\u001b[0m t, result_t \u001b[38;5;241m=\u001b[39m _commonType(a, b)\n",
      "File \u001b[0;32m/opt/conda/lib/python3.8/site-packages/numpy/linalg/linalg.py:203\u001b[0m, in \u001b[0;36m_assert_stacked_square\u001b[0;34m(*arrays)\u001b[0m\n\u001b[1;32m    201\u001b[0m m, n \u001b[38;5;241m=\u001b[39m a\u001b[38;5;241m.\u001b[39mshape[\u001b[38;5;241m-\u001b[39m\u001b[38;5;241m2\u001b[39m:]\n\u001b[1;32m    202\u001b[0m \u001b[38;5;28;01mif\u001b[39;00m m \u001b[38;5;241m!=\u001b[39m n:\n\u001b[0;32m--> 203\u001b[0m     \u001b[38;5;28;01mraise\u001b[39;00m LinAlgError(\u001b[38;5;124m'\u001b[39m\u001b[38;5;124mLast 2 dimensions of the array must be square\u001b[39m\u001b[38;5;124m'\u001b[39m)\n",
      "\u001b[0;31mLinAlgError\u001b[0m: Last 2 dimensions of the array must be square"
     ]
    }
   ],
   "source": [
    "# 4\n",
    "# В случае если матрицы не совпадают по размеру \n",
    "a_1 = np.random.randint(0, 100, size=(3, 1))\n",
    "a_2 = np.random.randint(0, 100, size=(3, 5))\n",
    "\n",
    "A = np.linalg.solve(a_2, a_1)"
   ]
  },
  {
   "cell_type": "markdown",
   "metadata": {
    "id": "q-oSixsb09RV"
   },
   "source": [
    "### Задача 2 (0.5 балла)\n",
    "Ниже создаются две матрицы A, B."
   ]
  },
  {
   "cell_type": "code",
   "execution_count": 11,
   "metadata": {
    "id": "F93ouxr91AK-"
   },
   "outputs": [],
   "source": [
    "A = np.array([[1, 2, 30], [2, 1, 3], [20, 1, 3]])\n",
    "B = np.array([[8, 12, 19], [12, 13, 11], [10, 2, 3]])"
   ]
  },
  {
   "cell_type": "code",
   "execution_count": 12,
   "metadata": {
    "colab": {
     "base_uri": "https://localhost:8080/"
    },
    "id": "WCm95Nuu1e_L",
    "outputId": "4f360576-c3c8-4732-9529-de9daededc18"
   },
   "outputs": [
    {
     "data": {
      "text/plain": [
       "array([[ 1,  2, 30],\n",
       "       [ 2,  1,  3],\n",
       "       [20,  1,  3]])"
      ]
     },
     "execution_count": 12,
     "metadata": {},
     "output_type": "execute_result"
    }
   ],
   "source": [
    "A"
   ]
  },
  {
   "cell_type": "code",
   "execution_count": 13,
   "metadata": {
    "colab": {
     "base_uri": "https://localhost:8080/"
    },
    "id": "vEL0jLkq1fd_",
    "outputId": "25651af4-775b-46c9-e51c-d319a27c84b7"
   },
   "outputs": [
    {
     "data": {
      "text/plain": [
       "array([[ 8, 12, 19],\n",
       "       [12, 13, 11],\n",
       "       [10,  2,  3]])"
      ]
     },
     "execution_count": 13,
     "metadata": {},
     "output_type": "execute_result"
    }
   ],
   "source": [
    "B"
   ]
  },
  {
   "cell_type": "markdown",
   "metadata": {
    "id": "Unitf67H1lLh"
   },
   "source": [
    "С помощью numpy найдите:\n",
    "1. Сумма матриц A и B\n",
    "2. Произведение матриц A и B\n",
    "3. Произведение матриц B и A\n",
    "4. Определители матриц A и B\n",
    "5. Матрицу $A^T + BA$\n",
    "6. Матрицу, обратную к матрице A\n",
    "\n",
    "Пользуйтесь документацией numpy:  https://numpy.org"
   ]
  },
  {
   "cell_type": "code",
   "execution_count": 14,
   "metadata": {
    "id": "PrhUt9Ux1L9X"
   },
   "outputs": [],
   "source": [
    "import time # понадобится для замера времени в следующей задаче"
   ]
  },
  {
   "cell_type": "code",
   "execution_count": 15,
   "metadata": {
    "id": "dQCB9hqE5Mnn"
   },
   "outputs": [
    {
     "name": "stdout",
     "output_type": "stream",
     "text": [
      "Сумма матриц:\n",
      "[[ 9 14 49]\n",
      " [14 14 14]\n",
      " [30  3  6]]\n",
      "\n",
      "Произведение матриц A и B:\n",
      "[[332  98 131]\n",
      " [ 58  43  58]\n",
      " [202 259 400]]\n",
      "\n",
      "Произведение матриц B и A:\n",
      "[[412  47 333]\n",
      " [258  48 432]\n",
      " [ 74  25 315]]\n",
      "\n",
      "Определитель матрицы A -432.00000000000017\n",
      "Определитель матрицы A с округлением -432\n",
      "Определитель матрицы B -990.0000000000001\n",
      "Определитель матрицы B с округлением -990\n",
      "\n",
      "Матрица 𝐴^𝑇 + 𝐵𝐴:\n",
      "[[413  49 353]\n",
      " [260  49 433]\n",
      " [104  28 318]]\n",
      "\n",
      "Обратная матрица А:\n",
      "[[-5.55111512e-18 -5.55555556e-02  5.55555556e-02]\n",
      " [-1.25000000e-01  1.38194444e+00 -1.31944444e-01]\n",
      " [ 4.16666667e-02 -9.02777778e-02  6.94444444e-03]]\n"
     ]
    }
   ],
   "source": [
    "# 1 Сумма матриц A и B\n",
    "print('Сумма матриц:')\n",
    "print(A+B)\n",
    "print()\n",
    "\n",
    "# 2 Произведение матриц A и B\n",
    "print('Произведение матриц A и B:')\n",
    "print(A.dot(B))\n",
    "print()\n",
    "\n",
    "# 3 Произведение матриц B и A\n",
    "print('Произведение матриц B и A:')\n",
    "print(B.dot(A))\n",
    "print()\n",
    "\n",
    "# 4 Определители матриц A и B\n",
    "print(f\"Определитель матрицы A {np.linalg.det(A)}\") \n",
    "print(f\"Определитель матрицы A с округлением {round(np.linalg.det(A))}\") \n",
    "print(f\"Определитель матрицы B {np.linalg.det(B)}\") \n",
    "print(f\"Определитель матрицы B с округлением {round(np.linalg.det(B))}\") \n",
    "print()\n",
    "\n",
    "# 5 Матрицу  𝐴^𝑇 + 𝐵𝐴\n",
    "print('Матрица 𝐴^𝑇 + 𝐵𝐴:')\n",
    "print(np.transpose(A) + B.dot(A))\n",
    "print()\n",
    "\n",
    "# 6 Матрицу, обратную к матрице A\n",
    "print('Обратная матрица А:')\n",
    "print(np.linalg.inv(A))"
   ]
  },
  {
   "cell_type": "markdown",
   "metadata": {
    "id": "pWPq7FRRkkAF"
   },
   "source": [
    "### Задача 3 (2 балла)\n",
    "\n",
    "Сравните производительность операций умножения матриц с использованием библиотеки NumPy и стандартных списков Python для матриц размером от 2x2 до 100x100.\n",
    "\n",
    "1. Сгенерируйте две матрицы A и B случайного размера от nxn, заполненные случайными целыми числами от 1 до 50.\n",
    "2. Используя библиотеку NumPy, выполните умножение матриц A и B. Измерьте время выполнения операции.\n",
    "3. Реализуйте функцию для умножения матриц с помощью стандартных списков Python. Измерьте время выполнения этой операции.\n",
    "4. Сделайте вышеперечисленные пункты для n=2,...100 (используйте цикл).\n",
    "5. Для какого-нибудь n проверьте, что результаты умножения (получившаяся матрица) совпадают.\n",
    "\n",
    "\n",
    "6. Постройте график, где по оси X будет размер матрицы, по оси Y - время выполнения операции. Постройте два графика (для numpy и для стандартных списков)\n",
    "Сделайте выводы.\n",
    "В качестве шаблона можете использовать части кода ниже (а можете не использовать)\n"
   ]
  },
  {
   "cell_type": "code",
   "execution_count": 16,
   "metadata": {
    "id": "2PHx1CNP2vaS"
   },
   "outputs": [],
   "source": [
    "def multiply(A, B):\n",
    "    result = [[sum(a * b for a, b in zip(matrix1_row, matrix2_col)) for matrix2_col in zip(*B)] for matrix1_row in A]\n",
    "    return result\n",
    "\n",
    "time_np = []\n",
    "time_not_np = []\n",
    "\n",
    "for n in range(2, 101):\n",
    "    A = np.random.randint(1, 51, size=(n, n))\n",
    "    B = np.random.randint(1, 51, size=(n, n))\n",
    "    A_list = A.tolist()\n",
    "    B_list = B.tolist()\n",
    "    \n",
    "    # Умножение с Numpy\n",
    "    start_time_np = time.time()\n",
    "    C_np = A.dot(B)\n",
    "    end_time_np = time.time()\n",
    "    execution_time_np = end_time_np - start_time_np\n",
    "    time_np.append(execution_time_np)\n",
    "\n",
    "    # Умножение через списки\n",
    "    start_time = time.time()\n",
    "    C = multiply(A_list, B_list)\n",
    "    end_time = time.time()\n",
    "    execution_time = end_time - start_time\n",
    "    time_not_np.append(execution_time)"
   ]
  },
  {
   "cell_type": "code",
   "execution_count": 17,
   "metadata": {},
   "outputs": [],
   "source": [
    "import matplotlib.pyplot as plt"
   ]
  },
  {
   "cell_type": "code",
   "execution_count": 18,
   "metadata": {
    "id": "FKD4JOEHlCLq"
   },
   "outputs": [
    {
     "data": {
      "image/png": "[encoded data removed]",
      "text/plain": [
       "<Figure size 864x432 with 1 Axes>"
      ]
     },
     "metadata": {
      "needs_background": "light"
     },
     "output_type": "display_data"
    }
   ],
   "source": [
    "plt.figure(figsize=(12, 6))\n",
    "plt.plot(list(range(2, 101)), time_np, label='NumPy', color='green')\n",
    "plt.plot(list(range(2, 101)), time_not_np, label='List', color='red')\n",
    "plt.xlabel('n')\n",
    "plt.ylabel('Time (ms)')\n",
    "plt.title('Время выполнения умножения')\n",
    "plt.legend()\n",
    "plt.grid()\n",
    "plt.show()"
   ]
  },
  {
   "cell_type": "code",
   "execution_count": null,
   "metadata": {},
   "outputs": [],
   "source": []
  }
 ],
 "metadata": {
  "colab": {
   "provenance": []
  },
  "kernelspec": {
   "display_name": "Python 3 (ipykernel)",
   "language": "python",
   "name": "python3"
  },
  "language_info": {
   "codemirror_mode": {
    "name": "ipython",
    "version": 3
   },
   "file_extension": ".py",
   "mimetype": "text/x-python",
   "name": "python",
   "nbconvert_exporter": "python",
   "pygments_lexer": "ipython3",
   "version": "3.8.10"
  }
 },
 "nbformat": 4,
 "nbformat_minor": 4
}
